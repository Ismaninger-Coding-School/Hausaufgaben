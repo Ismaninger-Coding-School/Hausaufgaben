{
 "cells": [
  {
   "cell_type": "markdown",
   "metadata": {},
   "source": [
    "# Wir spielen ✂️ 🧱 📃 mit dem Computer "
   ]
  },
  {
   "cell_type": "markdown",
   "metadata": {},
   "source": [
    "Kennst Du diesen Spiel schon? Vielleicht hast Du das schon oft mit deinen Freunden oder in deriner Familie gespielt?\n",
    "\n",
    "Jetzt wollen wir das Spiel mal mit dem Computer spielen!"
   ]
  },
  {
   "cell_type": "markdown",
   "metadata": {},
   "source": [
    "<img width='200px' align='right' src=\"pics/schere-stein-papier.png\">\n",
    "\n",
    "Die Spielregeln sind schnell erklärt:\n",
    "\n",
    "1. Man spielt zu zweit: Du und dein Gegner\n",
    "\n",
    "3. Jeder macht eine Faust\n",
    "\n",
    "3. Ihr zählt  gemeinsam laut bis Drei (oder \"Schnick-Schnak-Schnuck\")\n",
    "\n",
    "4. Ihr öffnet gleichzeitig euer Fäuste und zeigt eines der drei Zeichen: Schere oder Stein oder Papier\n",
    "\n",
    "5. Stein schlägt Schere schlägt Papier schlägt Stein"
   ]
  },
  {
   "cell_type": "markdown",
   "metadata": {},
   "source": [
    "Dein Gener wird jetzt der Compter. \n",
    "Der wird sich _frei_ (oder wir sagen _**zufällig**_) \n",
    "\n",
    "für eines der drei Zeichen entscheiden ohne, dass du das vorher weisst. \n",
    "\n",
    "Aber wie bekommen wir den Computer dazu, sich für eines der drei Zeichen zu entscheiden?"
   ]
  },
  {
   "cell_type": "markdown",
   "metadata": {},
   "source": [
    "Dazu benutzen wir wieder eine Bibliothek, die wir importieren können:"
   ]
  },
  {
   "cell_type": "code",
   "execution_count": 2,
   "metadata": {},
   "outputs": [],
   "source": [
    "from random import randint"
   ]
  },
  {
   "cell_type": "markdown",
   "metadata": {},
   "source": [
    "So kannst du es ausprobieren:"
   ]
  },
  {
   "cell_type": "code",
   "execution_count": 7,
   "metadata": {},
   "outputs": [
    {
     "data": {
      "text/plain": [
       "1"
      ]
     },
     "execution_count": 7,
     "metadata": {},
     "output_type": "execute_result"
    }
   ],
   "source": [
    "randint(1,3)"
   ]
  },
  {
   "cell_type": "markdown",
   "metadata": {},
   "source": [
    "Führe die obere Zelle einfach nochmal und nochmal ... aus, was passiert?"
   ]
  },
  {
   "cell_type": "markdown",
   "metadata": {},
   "source": [
    "Genau 👍🏻 eine andere Zahl erscheint und zwar eine zwischen 1..3 ! Genau das macht `randint()`. "
   ]
  },
  {
   "cell_type": "markdown",
   "metadata": {},
   "source": [
    "So kann der Computer zufällig eine Zahl auswähelen ohne dass wir vorher das Ergebnis wissen.\n",
    "Bei \"Schere, Stein, Papier\" wird aber keine Zahl sondern eben ein Wort eingeben.\n",
    "\n",
    "wir müssen also die zufälligen Zahlen in Wörter übersetzen. \n",
    "\n",
    "Dazu benutzen wir ein Konzept das sich Wörterbuch (engl: dictionary).\n",
    "\n",
    "Damit könne wir eine Übersetzung machen. \n",
    "\n",
    "Zum Beispiel deutsche in englische Wörter übersetzen:"
   ]
  },
  {
   "cell_type": "code",
   "execution_count": 15,
   "metadata": {},
   "outputs": [],
   "source": [
    "meinWörterbuch = { \"Pferd\" : \"horse\", \"Hund\": \"dog\", \"Katze\": \"cat\" }"
   ]
  },
  {
   "cell_type": "raw",
   "metadata": {},
   "source": [
    "Probiere es aus: "
   ]
  },
  {
   "cell_type": "code",
   "execution_count": 16,
   "metadata": {},
   "outputs": [
    {
     "name": "stdout",
     "output_type": "stream",
     "text": [
      "{'Pferd': 'horse', 'Hund': 'dog', 'Katze': 'cat'}\n"
     ]
    }
   ],
   "source": [
    "print(meinWörterbuch)"
   ]
  },
  {
   "cell_type": "code",
   "execution_count": 17,
   "metadata": {},
   "outputs": [
    {
     "data": {
      "text/plain": [
       "'horse'"
      ]
     },
     "execution_count": 17,
     "metadata": {},
     "output_type": "execute_result"
    }
   ],
   "source": [
    "meinWörterbuch[\"Pferd\"]"
   ]
  },
  {
   "cell_type": "markdown",
   "metadata": {},
   "source": [
    "Schreibe dein eigenens _Wörterbuch_ mit deinen eigenen Werten zb: \n",
    "```\n",
    "Name: \n",
    "Alter:\n",
    "Hobby: \n",
    "````\n"
   ]
  },
  {
   "cell_type": "code",
   "execution_count": 19,
   "metadata": {},
   "outputs": [],
   "source": [
    "# dein code hier:\n",
    "\n",
    "\n",
    "\n"
   ]
  },
  {
   "cell_type": "markdown",
   "metadata": {},
   "source": [
    "Dem Computer kannst Du nun helfen die Zahlen `1, 2, 3` in `Schere, Stein, Papier` zu übersetzen"
   ]
  },
  {
   "cell_type": "code",
   "execution_count": 20,
   "metadata": {},
   "outputs": [],
   "source": [
    "computer_spielt = { 1 : \"Schere\", 2 : \"Stein\", 3 : \"Papier\"}"
   ]
  },
  {
   "cell_type": "code",
   "execution_count": 24,
   "metadata": {},
   "outputs": [
    {
     "data": {
      "text/plain": [
       "'Papier'"
      ]
     },
     "execution_count": 24,
     "metadata": {},
     "output_type": "execute_result"
    }
   ],
   "source": [
    "computer_spielt[randint(1,3)]"
   ]
  },
  {
   "cell_type": "code",
   "execution_count": null,
   "metadata": {},
   "outputs": [],
   "source": [
    "spieler_punkte = computer_punkte = 0\n",
    "gewinner = \"\"\n",
    "for versuch in range(1,4): #3 versuche\n",
    "    spieler_eingabe = input('Bitte gib ein: \"Schere\" oder \"Stein\" oder \"Papier\"')\n",
    "    spieler_eingabe = spieler_eingabe.upper()\n",
    "    computer_eingabe = computer_spielt[randint(1,3)]\n",
    "    score = get_score(player1_input , player2_input)\n",
    "    if score == player1_input:\n",
    "        player1_score += 1\n",
    "        print(\"Player 1 gets point\")\n",
    "    elif score == player2_input:\n",
    "        player2_score += 1\n",
    "        print(\"Player 2 gets point\")\n",
    "    print()\n",
    "    clear_output()\n",
    "    print(\"Player 1 input is {} \\nPlayer 2 input is {}\".format(player1_input,player2_input))\n",
    "    print()\n",
    "    print(\"Player 1 point: {} \\nPlayer 2 point: {}\".format(player1_score,player2_score))\n",
    "    print()\n",
    "    \n",
    "print(\"Result: {}\".format(get_winner(player1_score,player2_score)))"
   ]
  },
  {
   "cell_type": "code",
   "execution_count": 4,
   "metadata": {},
   "outputs": [],
   "source": [
    "def get_rps(player_input):\n",
    "    rps = {\n",
    "        1 : \"R\",\n",
    "        2 : \"P\",\n",
    "        3 : \"S\"\n",
    "    }\n",
    "    return rps[player_input]"
   ]
  },
  {
   "cell_type": "code",
   "execution_count": 5,
   "metadata": {},
   "outputs": [],
   "source": [
    "def get_score(player1_input, player2_input):\n",
    "    if (player1_input == \"R\" and player2_input == \"S\") or (player1_input == \"S\" and player2_input == \"R\"):\n",
    "        return \"R\"\n",
    "    elif (player1_input == \"P\" and player2_input == \"S\") or (player1_input == \"S\" and player2_input == \"P\"):\n",
    "        return \"S\"\n",
    "    elif (player1_input == \"S\" and player2_input == \"R\") or (player1_input == \"R\" and player2_input == \"P\"):\n",
    "        return \"P\"\n",
    "    else:\n",
    "        return \"Draw\""
   ]
  },
  {
   "cell_type": "code",
   "execution_count": 6,
   "metadata": {},
   "outputs": [],
   "source": [
    "def get_winner(player1_score , player2_score):\n",
    "    if player1_score > player2_score:\n",
    "        return \"Player 1 wins\"\n",
    "    elif player1_score < player2_score:\n",
    "        return \"Player 2 wins\"\n",
    "    else:\n",
    "        return \"It's a Draw\""
   ]
  },
  {
   "cell_type": "code",
   "execution_count": 3,
   "metadata": {},
   "outputs": [],
   "source": [
    "from IPython.display import clear_output"
   ]
  },
  {
   "cell_type": "code",
   "execution_count": 8,
   "metadata": {},
   "outputs": [
    {
     "name": "stdout",
     "output_type": "stream",
     "text": [
      "Player 1 input is S \n",
      "Player 2 input is S\n",
      "\n",
      "Player 1 point: 1 \n",
      "Player 2 point: 0\n",
      "\n",
      "Result: Player 1 wins\n"
     ]
    }
   ],
   "source": [
    "player1_score = player2_score = 0\n",
    "winner = \"\"\n",
    "for attempt in range(1,4): #3 attempts\n",
    "    player1_input = input('Please enter \"r\" for rock, \"p\" for paper or \"s\" for scissor: ')\n",
    "    player1_input = player1_input.upper()\n",
    "    player2_input = get_rps(randint(1,3))\n",
    "    score = get_score(player1_input , player2_input)\n",
    "    if score == player1_input:\n",
    "        player1_score += 1\n",
    "        print(\"Player 1 gets point\")\n",
    "    elif score == player2_input:\n",
    "        player2_score += 1\n",
    "        print(\"Player 2 gets point\")\n",
    "    print()\n",
    "    clear_output()\n",
    "    print(\"Player 1 input is {} \\nPlayer 2 input is {}\".format(player1_input,player2_input))\n",
    "    print()\n",
    "    print(\"Player 1 point: {} \\nPlayer 2 point: {}\".format(player1_score,player2_score))\n",
    "    print()\n",
    "    \n",
    "print(\"Result: {}\".format(get_winner(player1_score,player2_score)))"
   ]
  },
  {
   "cell_type": "code",
   "execution_count": null,
   "metadata": {},
   "outputs": [],
   "source": []
  }
 ],
 "metadata": {
  "kernelspec": {
   "display_name": "Python 3 (ipykernel)",
   "language": "python",
   "name": "python3"
  },
  "language_info": {
   "codemirror_mode": {
    "name": "ipython",
    "version": 3
   },
   "file_extension": ".py",
   "mimetype": "text/x-python",
   "name": "python",
   "nbconvert_exporter": "python",
   "pygments_lexer": "ipython3",
   "version": "3.9.12"
  }
 },
 "nbformat": 4,
 "nbformat_minor": 4
}
