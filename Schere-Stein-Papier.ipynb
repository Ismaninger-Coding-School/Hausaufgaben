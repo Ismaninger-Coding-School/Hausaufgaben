{
 "cells": [
  {
   "cell_type": "markdown",
   "metadata": {},
   "source": [
    "# Wir spielen ✂️ 🧱 📃 mit dem Computer "
   ]
  },
  {
   "cell_type": "markdown",
   "metadata": {},
   "source": [
    "Kennst Du diesen Spiel schon? Vielleicht hast Du das schon oft mit deinen Freunden oder in deriner Familie gespielt?\n",
    "\n",
    "Jetzt wollen wir das Spiel mal mit dem Computer spielen!"
   ]
  },
  {
   "cell_type": "markdown",
   "metadata": {},
   "source": [
    "<img width='200px' align='right' src=\"pics/schere-stein-papier.png\">\n",
    "\n",
    "Die Spielregeln sind schnell erklärt:\n",
    "\n",
    "1. Man spielt zu zweit: Du und dein Gegner\n",
    "\n",
    "3. Jeder macht eine Faust\n",
    "\n",
    "3. Ihr zählt  gemeinsam laut bis Drei (oder \"Schnick-Schnak-Schnuck\")\n",
    "\n",
    "4. Ihr öffnet gleichzeitig euer Fäuste und zeigt eines der drei Zeichen: Schere oder Stein oder Papier\n",
    "\n",
    "5. Stein schlägt Schere schlägt Papier schlägt Stein"
   ]
  },
  {
   "cell_type": "markdown",
   "metadata": {},
   "source": [
    "Dein Gener wird jetzt der Compter. \n",
    "Der wird sich _frei_ (oder wir sagen _**zufällig**_) \n",
    "\n",
    "für eines der drei Zeichen entscheiden ohne, dass du das vorher weisst. \n",
    "\n",
    "Aber wie bekommen wir den Computer dazu, sich für eines der drei Zeichen zu entscheiden?"
   ]
  },
  {
   "cell_type": "markdown",
   "metadata": {},
   "source": [
    "Dazu benutzen wir wieder eine Bibliothek, die wir importieren können:"
   ]
  },
  {
   "cell_type": "code",
   "execution_count": 29,
   "metadata": {},
   "outputs": [],
   "source": [
    "from random import randint"
   ]
  },
  {
   "cell_type": "markdown",
   "metadata": {},
   "source": [
    "So kannst du es ausprobieren:"
   ]
  },
  {
   "cell_type": "code",
   "execution_count": 30,
   "metadata": {},
   "outputs": [
    {
     "data": {
      "text/plain": [
       "2"
      ]
     },
     "execution_count": 30,
     "metadata": {},
     "output_type": "execute_result"
    }
   ],
   "source": [
    "randint(1,3)"
   ]
  },
  {
   "cell_type": "markdown",
   "metadata": {},
   "source": [
    "Führe die obere Zelle einfach nochmal und nochmal ... aus, was passiert?"
   ]
  },
  {
   "cell_type": "markdown",
   "metadata": {},
   "source": [
    "Genau 👍🏻 eine andere Zahl erscheint und zwar eine zwischen 1..3 ! Genau das macht `randint()`. "
   ]
  },
  {
   "cell_type": "markdown",
   "metadata": {},
   "source": [
    "So kann der Computer zufällig eine Zahl auswähelen ohne dass wir vorher das Ergebnis wissen.\n",
    "Bei \"Schere, Stein, Papier\" wird aber keine Zahl sondern eben ein Wort eingeben.\n",
    "\n",
    "wir müssen also die zufälligen Zahlen in Wörter übersetzen. \n",
    "\n",
    "Dazu benutzen wir ein Konzept das sich Wörterbuch (engl: dictionary).\n",
    "\n",
    "Damit könne wir eine Übersetzung machen. \n",
    "\n",
    "Zum Beispiel deutsche in englische Wörter übersetzen:"
   ]
  },
  {
   "cell_type": "code",
   "execution_count": 31,
   "metadata": {},
   "outputs": [],
   "source": [
    "meinWörterbuch = { \"Pferd\" : \"horse\", \"Hund\": \"dog\", \"Katze\": \"cat\" }"
   ]
  },
  {
   "cell_type": "raw",
   "metadata": {},
   "source": [
    "Probiere es aus: "
   ]
  },
  {
   "cell_type": "code",
   "execution_count": 32,
   "metadata": {},
   "outputs": [
    {
     "name": "stdout",
     "output_type": "stream",
     "text": [
      "{'Pferd': 'horse', 'Hund': 'dog', 'Katze': 'cat'}\n"
     ]
    }
   ],
   "source": [
    "print(meinWörterbuch)"
   ]
  },
  {
   "cell_type": "code",
   "execution_count": 33,
   "metadata": {},
   "outputs": [
    {
     "data": {
      "text/plain": [
       "'horse'"
      ]
     },
     "execution_count": 33,
     "metadata": {},
     "output_type": "execute_result"
    }
   ],
   "source": [
    "meinWörterbuch[\"Pferd\"]"
   ]
  },
  {
   "cell_type": "markdown",
   "metadata": {},
   "source": [
    "Schreibe dein eigenens _Wörterbuch_ mit deinen eigenen Werten zb: \n",
    "```\n",
    "Name: \n",
    "Alter:\n",
    "Hobby: \n",
    "````\n"
   ]
  },
  {
   "cell_type": "code",
   "execution_count": 34,
   "metadata": {},
   "outputs": [],
   "source": [
    "# dein code hier:\n",
    "\n",
    "\n",
    "\n"
   ]
  },
  {
   "cell_type": "markdown",
   "metadata": {},
   "source": [
    "Dem Computer kannst Du nun helfen die Zahlen `1, 2, 3` in `Schere, Stein, Papier` zu übersetzen"
   ]
  },
  {
   "cell_type": "code",
   "execution_count": 35,
   "metadata": {},
   "outputs": [],
   "source": [
    "computer_spielt = { 1 : \"Schere\", 2 : \"Stein\", 3 : \"Papier\"}"
   ]
  },
  {
   "cell_type": "code",
   "execution_count": 37,
   "metadata": {},
   "outputs": [
    {
     "data": {
      "text/plain": [
       "'Stein'"
      ]
     },
     "execution_count": 37,
     "metadata": {},
     "output_type": "execute_result"
    }
   ],
   "source": [
    "computer_spielt[randint(1,3)]"
   ]
  },
  {
   "cell_type": "code",
   "execution_count": 41,
   "metadata": {},
   "outputs": [
    {
     "name": "stdout",
     "output_type": "stream",
     "text": [
      "Spieler Eingabe ist Schere \n",
      "Computer wählt Schere\n",
      "\n",
      "Spieler Punkte: 2 \n",
      "Computer Punkte: 0\n",
      "\n",
      "Spieler gewinnt 🎉\n"
     ]
    }
   ],
   "source": [
    "spieler_punkte = computer_punkte = 0\n",
    "gewinner = \"\"\n",
    "ergebnis = \"\"\n",
    "for versuch in range(1,4): #3 versuche\n",
    "    spieler_eingabe = input('Bitte gib ein: \"Schere\" oder \"Stein\" oder \"Papier\"')\n",
    "    computer_eingabe = computer_spielt[randint(1,3)]\n",
    "    \n",
    "    if (spieler_eingabe == \"Stein\" and computer_eingabe == \"Schere\") or (spieler_eingabe == \"Schere\" and computer_eingabe == \"Stein\"):\n",
    "        ergebnis = \"Stein\"\n",
    "    elif (spieler_eingabe == \"Papier\" and computer_eingabe == \"Schere\") or (spieler_eingabe == \"Schere\" and computer_eingabe == \"Papier\"):\n",
    "        ergebnis = \"Schere\"\n",
    "    elif (spieler_eingabe == \"Papier\" and computer_eingabe == \"Stein\") or (spieler_eingabe == \"Stein\" and computer_eingabe == \"Papier\"):\n",
    "        ergebnis = \"Papier\"\n",
    "    else: \n",
    "        ergebnis = \"Unteschieden\"\n",
    "        \n",
    "    if ergebnis == spieler_eingabe:\n",
    "        spieler_punkte += 1\n",
    "        print(\"Spieler bekommt einen Punkt.\")\n",
    "    elif ergebnis == computer_eingabe:\n",
    "        computer_punkte += 1\n",
    "        print(\"Computer k´bekokmmt einen Punkt. \")\n",
    "    print()\n",
    "    clear_output()\n",
    "    print(\"Spieler Eingabe ist {} \\nComputer wählt {}\".format(spieler_eingabe,computer_eingabe))\n",
    "    print()\n",
    "    print(\"Spieler Punkte: {} \\nComputer Punkte: {}\".format(spieler_punkte,computer_punkte))\n",
    "    print()\n",
    "    \n",
    "if spieler_punkte > computer_punkte:\n",
    "    \n",
    "    print(\"Spieler gewinnt 🎉\")\n",
    "if computer_punkte > spieler_punkte:\n",
    "    print(\"Diesmla hat der Computer gewonnen 😥 Spiel nochmal!?\")\n",
    "elif spieler_punkte == computer_punkte:\n",
    "    print(\"Es gab ein Unentschieden. Spielt nochmal. Starte die Zelle neu.\")"
   ]
  },
  {
   "cell_type": "code",
   "execution_count": null,
   "metadata": {},
   "outputs": [],
   "source": []
  }
 ],
 "metadata": {
  "kernelspec": {
   "display_name": "Python 3 (ipykernel)",
   "language": "python",
   "name": "python3"
  },
  "language_info": {
   "codemirror_mode": {
    "name": "ipython",
    "version": 3
   },
   "file_extension": ".py",
   "mimetype": "text/x-python",
   "name": "python",
   "nbconvert_exporter": "python",
   "pygments_lexer": "ipython3",
   "version": "3.9.12"
  }
 },
 "nbformat": 4,
 "nbformat_minor": 4
}
